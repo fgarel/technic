{
 "metadata": {
  "name": "ipython-notebook"
 },
 "nbformat": 3,
 "nbformat_minor": 0,
 "worksheets": [
  {
   "cells": [
    {
     "cell_type": "markdown",
     "metadata": {},
     "source": [
      "Comment commencer ?\n",
      "===================\n",
      "\n",
      "Installer Ipython Notebook et lancer le serveur\n",
      "-----------------------------------------------\n",
      "Ceci est d\u00e9crit \u00e0 la page suivante\n",
      "http://nbviewer.ipython.org/github/weecology/progbio/blob/master/ipynbs/ipython-notebook.ipynb\n",
      "\n",
      "\n",
      "Manipuler un notebook\n",
      "---------------------\n",
      "\n",
      "Il existe plusieurs formats de cellules"
     ]
    },
    {
     "cell_type": "heading",
     "level": 3,
     "metadata": {},
     "source": [
      "Cr\u00e9er une cellule Markdown"
     ]
    },
    {
     "cell_type": "markdown",
     "metadata": {},
     "source": [
      "\n",
      "Il faut suivre la doc, ici,\n",
      "http://nbviewer.ipython.org/github/ipython/ipython/blob/master/examples/Notebook/User%20Interface.ipynb\n",
      "puis, ici,\n",
      "http://nbviewer.ipython.org/github/ipython/ipython/blob/master/examples/Notebook/Index.ipynb"
     ]
    },
    {
     "cell_type": "heading",
     "level": 3,
     "metadata": {},
     "source": [
      "Cr\u00e9er une cellule code"
     ]
    },
    {
     "cell_type": "markdown",
     "metadata": {},
     "source": [
      "Une cellule code est une cellule qui \u00e0 l'aspect de la cellule montr\u00e9e ci dessous"
     ]
    },
    {
     "cell_type": "markdown",
     "metadata": {},
     "source": [
      "Making a simple plot\n",
      "With matplotlib enabled, plotting should just work."
     ]
    },
    {
     "cell_type": "code",
     "collapsed": false,
     "input": [
      "a=10\n",
      "print(a)"
     ],
     "language": "python",
     "metadata": {},
     "outputs": [
      {
       "output_type": "stream",
       "stream": "stdout",
       "text": [
        "10\n"
       ]
      }
     ],
     "prompt_number": 7
    },
    {
     "cell_type": "heading",
     "level": 3,
     "metadata": {},
     "source": [
      "Cr\u00e9er une cellule avec un graphique"
     ]
    },
    {
     "cell_type": "markdown",
     "metadata": {},
     "source": [
      "Il faut suivre la doc ici http://nbviewer.ipython.org/github/ipython/ipython/blob/master/examples/Notebook/Plotting%20with%20Matplotlib.ipynb"
     ]
    },
    {
     "cell_type": "code",
     "collapsed": false,
     "input": [
      "%matplotlib inline"
     ],
     "language": "python",
     "metadata": {},
     "outputs": [
      {
       "output_type": "stream",
       "stream": "stderr",
       "text": [
        "ERROR: Line magic function `%matplotlib` not found."
       ]
      }
     ],
     "prompt_number": 1
    },
    {
     "cell_type": "code",
     "collapsed": false,
     "input": [
      "import matplotlib.pyplot as plt\n",
      "import numpy as np"
     ],
     "language": "python",
     "metadata": {},
     "outputs": [
      {
       "ename": "ImportError",
       "evalue": "No module named matplotlib.pyplot",
       "output_type": "pyerr",
       "traceback": [
        "\u001b[0;31m---------------------------------------------------------------------------\u001b[0m\n\u001b[0;31mImportError\u001b[0m                               Traceback (most recent call last)",
        "\u001b[0;32m<ipython-input-2-deb84735ddff>\u001b[0m in \u001b[0;36m<module>\u001b[0;34m()\u001b[0m\n\u001b[0;32m----> 1\u001b[0;31m \u001b[0;32mimport\u001b[0m \u001b[0mmatplotlib\u001b[0m\u001b[0;34m.\u001b[0m\u001b[0mpyplot\u001b[0m \u001b[0;32mas\u001b[0m \u001b[0mplt\u001b[0m\u001b[0;34m\u001b[0m\u001b[0m\n\u001b[0m\u001b[1;32m      2\u001b[0m \u001b[0;32mimport\u001b[0m \u001b[0mnumpy\u001b[0m \u001b[0;32mas\u001b[0m \u001b[0mnp\u001b[0m\u001b[0;34m\u001b[0m\u001b[0m\n",
        "\u001b[0;31mImportError\u001b[0m: No module named matplotlib.pyplot"
       ]
      }
     ],
     "prompt_number": 2
    },
    {
     "cell_type": "code",
     "collapsed": false,
     "input": [
      "x = np.linspace(0, 3*np.pi, 500)\n",
      "plt.plot(x, np.sin(x**2))\n",
      "plt.title('A simple chirp');"
     ],
     "language": "python",
     "metadata": {},
     "outputs": []
    }
   ],
   "metadata": {}
  }
 ]
}