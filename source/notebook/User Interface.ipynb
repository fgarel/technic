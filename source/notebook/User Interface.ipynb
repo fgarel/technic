







<!DOCTYPE html>
<html lang="en">
  <head>
    <meta charset="utf-8">
    <title></title>

    <meta name="viewport" content="width=device-width, initial-scale=1.0">

    
    <meta name="description" content="">
    

    
    <meta name="author" content="">
    

    <!--NEW RELIC Start Perf Measurement-->
    
    <!--NREND-->

    <!-- Le styles -->
    <!--<link href="/static/css/bootstrap.css" rel="stylesheet">-->
    <link href="/static/css/docs.css" rel="stylesheet">
    <link href="/static/css/bootstrap.min.css" rel="stylesheet">
    <link href="/static/css/bootstrap-responsive.css" rel="stylesheet">
    <link href="/static/components/animate.css/animate.css" rel="stylesheet">
    <link href="/static/components/Font-Awesome/css/font-awesome.min.css" rel="stylesheet">
    <link href="/static/css/nbviewer.css" rel="stylesheet">


    <!-- Le HTML5 shim, for IE6-8 support of HTML5 elements -->
    <!--[if lt IE 9]>
      <script src="http://html5shim.googlecode.com/svn/trunk/html5.js"></script>
    <![endif]-->

    <!-- Le fav and touch icons -->
    <link rel="shortcut icon" href="/static/ico/ipynb_icon_16x16.png">
    <link rel="apple-touch-icon-precomposed" sizes="144x144" href="/static/ico/apple-touch-icon-144-precomposed.png">
    <link rel="apple-touch-icon-precomposed" sizes="114x114" href="/static/ico/apple-touch-icon-114-precomposed.png">
    <link rel="apple-touch-icon-precomposed" sizes="72x72" href="/static/ico/apple-touch-icon-72-precomposed.png">
    <link rel="apple-touch-icon-precomposed" href="/static/ico/apple-touch-icon-57-precomposed.png">
    
    
    

    

    
    <meta name="twitter:card" content="summary">

    
    <meta name="twitter:title" content="Notebook on nbviewer">
    

    
    <meta name="twitter:description" content="Check out this IPython notebook!">
    

    
    <meta name="twitter:domain" content="nbviewer.ipython.org">
    

    <meta name="twitter:image:src" content="http://ipython.org/ipython-doc/dev/_images/ipynb_icon_128x128.png">
    
    
    

    <link href="/ipython-static/style/ipython.min.css" rel="stylesheet">
    <link href="/static/css/pygments.css" rel="stylesheet">
    <style type="text/css" media='screen and (min-width:980px)'>
   
    body {
        padding-top: 40px;
    }

    </style>
    <style type="text/css" >
    .imgwrap {
        text-align: center;
    }

    @media (max-width: 767px){

        div.input, div.output_area {
            -webkit-box-orient: vertical;
            -moz-box-orient: vertical;
            box-orient: vertical;
        }

        div.prompt {
            text-align:left;
        }

    }

    
    </style>
    
    <script src="https://c328740.ssl.cf1.rackcdn.com/mathjax/latest/MathJax.js?config=TeX-AMS_HTML"type="text/javascript">
    </script>
    <script type="text/javascript">
    init_mathjax = function() {
        if (window.MathJax) {
            // MathJax loaded
            MathJax.Hub.Config({
                tex2jax: {
                    inlineMath: [ ['$','$'], ["\\(","\\)"] ],
                    displayMath: [ ['$$','$$'], ["\\[","\\]"] ],
                    processEscapes: true,
                    processEnvironments: true
                },
                displayAlign: 'center',
                "HTML-CSS": {
                    styles: {'.MathJax_Display': {"margin": 0}},
                    linebreaks: { automatic: true }
                }
            });
            MathJax.Hub.Queue(["Typeset",MathJax.Hub]);
        }
    }
    init_mathjax();
    </script>
    
  </head>

  <body data-spy="scroll" data-target=".subnav" data-offset="50">

  <!-- These are loaded at the top of the body so they are available to notebook
  cells when they are loaded below. -->
  <script src="/static/js/jquery.min.js"></script>
  <script src="/static/components/requirejs/require.js"></script>

  <!-- Navbar
  ================================================== -->
    <div id='menubar' class="navbar navbar-fixed-top hidden-print">
      <div class="navbar-inner">
        <div class="container">
          <button type="button" class="btn btn-navbar" data-toggle="collapse" data-target=".nav-collapse">
            <span class="icon-bar"></span>
            <span class="icon-bar"></span>
            <span class="icon-bar"></span>
          </button>
          <div class="nav-collapse collapse">
            <ul class="nav">

                <li>
        <a href="/" title="Notebook Viewer" >
            <strong>
            <span>Notebook Viewer</span>
            </strong>
        </a>
    </li>
                <li>
        <a href="/faq" title="FAQ" >
            
            <span>FAQ</span>
            
        </a>
    </li>

              <li class="">
                <a href="http://www.ipython.org">IPython</a>
              </li>
            </ul>
            <ul class="nav pull-right"> 
              
              
      
        <li>
        <a href="https://github.com/ipython/ipython/blob/master/examples/Notebook/User%20Interface.ipynb" title="Notebook Home" >
            <span class='fa fa-github fa-2x menu-icon'></span>
            <span class='menu-text'>Notebook Home</span>
        </a>
    </li>
      
        <li>
        <a href="https://raw.github.com/ipython/ipython/master/examples/Notebook/User%20Interface.ipynb" title="Download Notebook" download>
            <span class='fa fa-download fa-2x menu-icon'></span>
            <span class='menu-text'>Download Notebook</span>
        </a>
    </li>
    
            </ul>
          </div>
        </div>
      </div>
    </div>
    <div class="container">


    
<ul class="breadcrumb">
    
    <li><a href="/github/ipython/ipython/tree/master">ipython</a> <span class="divider">/</span></li>
    
    <li><a href="/github/ipython/ipython/tree/master/examples">examples</a> <span class="divider">/</span></li>
    
    <li><a href="/github/ipython/ipython/tree/master/examples/Notebook">Notebook</a> <span class="divider">/</span></li>
    
</ul>

    
<div class="cell border-box-sizing text_cell rendered">
<div class="prompt input_prompt">
</div>
<div class="inner_cell">
<div class="text_cell_render border-box-sizing rendered_html">
<h1 id="User-Interface">User Interface<a class="anchor-link" href="#User-Interface">&#182;</a></h1>
</div>
</div>
</div>

<div class="cell border-box-sizing text_cell rendered">
<div class="prompt input_prompt">
</div>
<div class="inner_cell">
<div class="text_cell_render border-box-sizing rendered_html">
<p>This notebook describes the user interface of the IPython Notebook. This includes both mouse and keyboard based navigation and interaction.</p>
<div class="alert" style="margin: 10px">
As of IPython 2.0, the user interface has changed significantly. Because of this we highly recommend existing users to review this information after upgrading to IPython 2.0. All new users of IPython should review this information as well.
</div>
</div>
</div>
</div>
<div class="cell border-box-sizing text_cell rendered">
<div class="prompt input_prompt">
</div>
<div class="inner_cell">
<div class="text_cell_render border-box-sizing rendered_html">
<h2 id="Modal-editor">Modal editor<a class="anchor-link" href="#Modal-editor">&#182;</a></h2>
</div>
</div>
</div>

<div class="cell border-box-sizing text_cell rendered">
<div class="prompt input_prompt">
</div>
<div class="inner_cell">
<div class="text_cell_render border-box-sizing rendered_html">
<p>Starting with IPython 2.0, the IPython Notebook has a modal user interface. This means that the keyboard does different things depending on which mode the Notebook is in. There are two modes: edit mode and command mode.</p>
</div>
</div>
</div>
<div class="cell border-box-sizing text_cell rendered">
<div class="prompt input_prompt">
</div>
<div class="inner_cell">
<div class="text_cell_render border-box-sizing rendered_html">
<h3 id="Edit-mode">Edit mode<a class="anchor-link" href="#Edit-mode">&#182;</a></h3>
</div>
</div>
</div>

<div class="cell border-box-sizing text_cell rendered">
<div class="prompt input_prompt">
</div>
<div class="inner_cell">
<div class="text_cell_render border-box-sizing rendered_html">
<p>Edit mode is indicated by a green cell border and a prompt showing in the editor area:</p>
<p><img src="images/edit_mode.png"></p>
<p>When a cell is in edit mode, you can type into the cell, like a normal text editor.</p>
<div class="alert alert-success" style="margin: 10px">
Enter edit mode by pressing <code>enter</code> or using the mouse to click on a cell&#39;s editor area.
</div>
</div>
</div>
</div>
<div class="cell border-box-sizing text_cell rendered">
<div class="prompt input_prompt">
</div>
<div class="inner_cell">
<div class="text_cell_render border-box-sizing rendered_html">
<h3 id="Command-mode">Command mode<a class="anchor-link" href="#Command-mode">&#182;</a></h3>
</div>
</div>
</div>

<div class="cell border-box-sizing text_cell rendered">
<div class="prompt input_prompt">
</div>
<div class="inner_cell">
<div class="text_cell_render border-box-sizing rendered_html">
<p>Command mode is indicated by a grey cell border:</p>
<p><img src="images/command_mode.png"></p>
<p>When you are in command mode, you are able to edit the notebook as a whole, but not type into individual cells. Most importantly, in command mode, the keyboard is mapped to a set of shortcuts that let you perform notebook and cell actions efficiently. For example, if you are in command mode and you press <code>c</code>, you will copy the current cell - no modifier is needed.</p>
<div class="alert alert-error" style="margin: 10px">
Don&#39;t try to type into a cell in command mode; unexpected things will happen!
</div>

<div class="alert alert-success" style="margin: 10px">
Enter command mode by pressing <code>esc</code> or using the mouse to click <em>outside</em> a cell&#39;s editor area.
</div>
</div>
</div>
</div>
<div class="cell border-box-sizing text_cell rendered">
<div class="prompt input_prompt">
</div>
<div class="inner_cell">
<div class="text_cell_render border-box-sizing rendered_html">
<h2 id="Mouse-navigation">Mouse navigation<a class="anchor-link" href="#Mouse-navigation">&#182;</a></h2>
</div>
</div>
</div>

<div class="cell border-box-sizing text_cell rendered">
<div class="prompt input_prompt">
</div>
<div class="inner_cell">
<div class="text_cell_render border-box-sizing rendered_html">
<p>All navigation and actions in the Notebook are available using the mouse through the menubar and toolbar, which are both above the main Notebook area:</p>
<p><img src="images/menubar_toolbar.png"></p>
</div>
</div>
</div>
<div class="cell border-box-sizing text_cell rendered">
<div class="prompt input_prompt">
</div>
<div class="inner_cell">
<div class="text_cell_render border-box-sizing rendered_html">
<p>The first idea of mouse based navigation is that <strong>cells can be selected by clicking on them.</strong> The currently selected cell gets a grey or green border depending on whether the notebook is in edit or command mode. If you click inside a cell&#39;s editor area, you will enter edit mode. If you click on the prompt or output area of a cell you will enter command mode.</p>
<p>If you are running this notebook in a live session (not on <a href="http://nbviewer.ipython.org">http://nbviewer.ipython.org</a>) try selecting different cells and going between edit and command mode. Try typing into a cell.</p>
</div>
</div>
</div>
<div class="cell border-box-sizing text_cell rendered">
<div class="prompt input_prompt">
</div>
<div class="inner_cell">
<div class="text_cell_render border-box-sizing rendered_html">
<p>The second idea of mouse based navigation is that <strong>cell actions usually apply to the currently selected cell</strong>. Thus if you want to run the code in a cell, you would select it and click the &quot;Play&quot; button in the toolbar or the &quot;Cell:Run&quot; menu item. Similarly, to copy a cell you would select it and click the &quot;Copy&quot; button in the toolbar or the &quot;Edit:Copy&quot; menu item. With this simple pattern, you should be able to do most everything you need with the mouse.</p>
<p>Markdown and heading cells have one other state that can be modified with the mouse. These cells can either be rendered or unrendered. When they are rendered, you will see a nice formatted representation of the cell&#39;s contents. When they are unrendered, you will see the raw text source of the cell. To render the selected cell with the mouse, click the &quot;Play&quot; button in the toolbar or the &quot;Cell:Run&quot; menu item. To unrender the selected cell, double click on the cell.</p>
</div>
</div>
</div>
<div class="cell border-box-sizing text_cell rendered">
<div class="prompt input_prompt">
</div>
<div class="inner_cell">
<div class="text_cell_render border-box-sizing rendered_html">
<h2 id="Keyboard-Navigation">Keyboard Navigation<a class="anchor-link" href="#Keyboard-Navigation">&#182;</a></h2>
</div>
</div>
</div>

<div class="cell border-box-sizing text_cell rendered">
<div class="prompt input_prompt">
</div>
<div class="inner_cell">
<div class="text_cell_render border-box-sizing rendered_html">
<p>The modal user interface of the IPython Notebook has been optimized for efficient keyboard usage. This is made possible by having two different sets of keyboard shortcuts: one set that is active in edit mode and another in command mode.</p>
<p>The most important keyboard shortcuts are <code>enter</code>, which enters edit mode, and <code>esc</code>, which enters command mode.</p>
<p>In edit mode, most of the keyboard is dedicated to typing into the cell&#39;s editor. Thus, in edit mode there are relatively few shortcuts:</p>
</div>
</div>
</div>
<div class="cell border-box-sizing text_cell rendered">
<div class="prompt input_prompt">
</div>
<div class="inner_cell">
<div class="text_cell_render border-box-sizing rendered_html">
<p>The <code>display_edit_shortcuts()</code> function used here is defined in the <a href="#Utilities">Utilities section</a> at the bottom of this notebook.</p>
</div>
</div>
</div>
<div class="cell border-box-sizing code_cell rendered">
<div class="input">
<div class="prompt input_prompt">
In&nbsp;[17]:
</div>
<div class="inner_cell">
    <div class="input_area">
<div class="highlight"><pre><span class="n">display_edit_shortcuts</span><span class="p">()</span>
</pre></div>

</div>
</div>
</div>

<div class="output_wrapper">
<div class="output">


<div class="output_area"><div class="prompt"></div>

<div class="output_html rendered_html output_subarea ">
<div class="hbox"><div class="box-flex0"><div class="quickhelp"><span class="shortcut_key">esc</span><span class="shortcut_descr"> : command mode</span></div><div class="quickhelp"><span class="shortcut_key">ctrl+m</span><span class="shortcut_descr"> : command mode</span></div><div class="quickhelp"><span class="shortcut_key">shift+enter</span><span class="shortcut_descr"> : run cell</span></div><div class="quickhelp"><span class="shortcut_key">ctrl+enter</span><span class="shortcut_descr"> : run cell, select below</span></div></div><div class="box-flex0"><div class="quickhelp"><span class="shortcut_key">alt+enter</span><span class="shortcut_descr"> : run cell, insert below</span></div><div class="quickhelp"><span class="shortcut_key">alt+-</span><span class="shortcut_descr"> : split cell</span></div><div class="quickhelp"><span class="shortcut_key">meta+s</span><span class="shortcut_descr"> : save notebook</span></div><div class="quickhelp"><span class="shortcut_key">ctrl+s</span><span class="shortcut_descr"> : save notebook</span></div></div></div>
</div>

</div>

<div class="output_area"><div class="prompt"></div>


<div class="output_subarea output_javascript ">
<script type="text/javascript">
var help = IPython.quick_help.build_edit_help();
help.children().first().remove();
this.append_output({output_type: 'display_data', html: help.html()});
</script>
</div>

</div>

</div>
</div>

</div>
<div class="cell border-box-sizing text_cell rendered">
<div class="prompt input_prompt">
</div>
<div class="inner_cell">
<div class="text_cell_render border-box-sizing rendered_html">
<p>There are two other keyboard shortcuts in edit mode that are not listed here:</p>
<ul>
<li><code>tab</code>: trigger &quot;tab&quot; completion</li>
<li><code>shift+tab</code>: open the tooltip</li>
</ul>
</div>
</div>
</div>
<div class="cell border-box-sizing text_cell rendered">
<div class="prompt input_prompt">
</div>
<div class="inner_cell">
<div class="text_cell_render border-box-sizing rendered_html">
<p>In command mode, the entire keyboard is available for shortcuts:</p>
</div>
</div>
</div>
<div class="cell border-box-sizing code_cell rendered">
<div class="input">
<div class="prompt input_prompt">
In&nbsp;[18]:
</div>
<div class="inner_cell">
    <div class="input_area">
<div class="highlight"><pre><span class="n">display_command_shortcuts</span><span class="p">()</span>
</pre></div>

</div>
</div>
</div>

<div class="output_wrapper">
<div class="output">


<div class="output_area"><div class="prompt"></div>

<div class="output_html rendered_html output_subarea ">
<div class="hbox"><div class="box-flex0"><div class="quickhelp"><span class="shortcut_key">enter</span><span class="shortcut_descr"> : edit mode</span></div><div class="quickhelp"><span class="shortcut_key">shift+enter</span><span class="shortcut_descr"> : run cell</span></div><div class="quickhelp"><span class="shortcut_key">ctrl+enter</span><span class="shortcut_descr"> : run cell, select below</span></div><div class="quickhelp"><span class="shortcut_key">alt+enter</span><span class="shortcut_descr"> : run cell, insert below</span></div><div class="quickhelp"><span class="shortcut_key">y</span><span class="shortcut_descr"> : to code</span></div><div class="quickhelp"><span class="shortcut_key">m</span><span class="shortcut_descr"> : to markdown</span></div><div class="quickhelp"><span class="shortcut_key">t</span><span class="shortcut_descr"> : to raw</span></div><div class="quickhelp"><span class="shortcut_key">1</span><span class="shortcut_descr"> : to heading 1</span></div><div class="quickhelp"><span class="shortcut_key">2</span><span class="shortcut_descr"> : to heading 2</span></div><div class="quickhelp"><span class="shortcut_key">3</span><span class="shortcut_descr"> : to heading 3</span></div><div class="quickhelp"><span class="shortcut_key">4</span><span class="shortcut_descr"> : to heading 4</span></div><div class="quickhelp"><span class="shortcut_key">5</span><span class="shortcut_descr"> : to heading 5</span></div><div class="quickhelp"><span class="shortcut_key">6</span><span class="shortcut_descr"> : to heading 6</span></div><div class="quickhelp"><span class="shortcut_key">up</span><span class="shortcut_descr"> : select previous cell</span></div><div class="quickhelp"><span class="shortcut_key">down</span><span class="shortcut_descr"> : select next cell</span></div><div class="quickhelp"><span class="shortcut_key">k</span><span class="shortcut_descr"> : select previous cell</span></div><div class="quickhelp"><span class="shortcut_key">j</span><span class="shortcut_descr"> : select next cell</span></div><div class="quickhelp"><span class="shortcut_key">ctrl+k</span><span class="shortcut_descr"> : move cell up</span></div></div><div class="box-flex0"><div class="quickhelp"><span class="shortcut_key">ctrl+j</span><span class="shortcut_descr"> : move cell down</span></div><div class="quickhelp"><span class="shortcut_key">a</span><span class="shortcut_descr"> : insert cell above</span></div><div class="quickhelp"><span class="shortcut_key">b</span><span class="shortcut_descr"> : insert cell below</span></div><div class="quickhelp"><span class="shortcut_key">x</span><span class="shortcut_descr"> : cut cell</span></div><div class="quickhelp"><span class="shortcut_key">c</span><span class="shortcut_descr"> : copy cell</span></div><div class="quickhelp"><span class="shortcut_key">v</span><span class="shortcut_descr"> : paste cell below</span></div><div class="quickhelp"><span class="shortcut_key">z</span><span class="shortcut_descr"> : undo last delete</span></div><div class="quickhelp"><span class="shortcut_key">d</span><span class="shortcut_descr"> : delete cell (press twice)</span></div><div class="quickhelp"><span class="shortcut_key">shift+=</span><span class="shortcut_descr"> : merge cell below</span></div><div class="quickhelp"><span class="shortcut_key">s</span><span class="shortcut_descr"> : save notebook</span></div><div class="quickhelp"><span class="shortcut_key">meta+s</span><span class="shortcut_descr"> : save notebook</span></div><div class="quickhelp"><span class="shortcut_key">ctrl+s</span><span class="shortcut_descr"> : save notebook</span></div><div class="quickhelp"><span class="shortcut_key">l</span><span class="shortcut_descr"> : toggle line numbers</span></div><div class="quickhelp"><span class="shortcut_key">o</span><span class="shortcut_descr"> : toggle output</span></div><div class="quickhelp"><span class="shortcut_key">shift+o</span><span class="shortcut_descr"> : toggle output</span></div><div class="quickhelp"><span class="shortcut_key">h</span><span class="shortcut_descr"> : keyboard shortcuts</span></div><div class="quickhelp"><span class="shortcut_key">i</span><span class="shortcut_descr"> : interrupt kernel</span></div><div class="quickhelp"><span class="shortcut_key">.</span><span class="shortcut_descr"> : restart kernel</span></div></div></div>
</div>

</div>

<div class="output_area"><div class="prompt"></div>


<div class="output_subarea output_javascript ">
<script type="text/javascript">
var help = IPython.quick_help.build_command_help();
help.children().first().remove();
this.append_output({output_type: 'display_data', html: help.html()});
</script>
</div>

</div>

</div>
</div>

</div>
<div class="cell border-box-sizing text_cell rendered">
<div class="prompt input_prompt">
</div>
<div class="inner_cell">
<div class="text_cell_render border-box-sizing rendered_html">
<p>Here the rough order in which we recommend learning the command mode shortcuts:</p>
<ol>
<li>Basic navigation: <code>enter</code>, <code>shift-enter</code>, <code>up/k</code>, <code>down/j</code></li>
<li>Saving the notebook: <code>s</code></li>
<li>Cell types: <code>y</code>, <code>m</code>, <code>1-6</code>, <code>t</code></li>
<li>Cell creation and movement: <code>a</code>, <code>b</code>, <code>ctrl+k</code>, <code>ctrl+j</code></li>
<li>Cell editing: <code>x</code>, <code>c</code>, <code>v</code>, <code>d</code>, <code>z</code>, <code>shift+=</code></li>
<li>Kernel operations: <code>i</code>, <code>.</code></li>
</ol>
</div>
</div>
</div>
<div class="cell border-box-sizing text_cell rendered">
<div class="prompt input_prompt">
</div>
<div class="inner_cell">
<div class="text_cell_render border-box-sizing rendered_html">
<h2 id="Keyboard-shortcut-customization">Keyboard shortcut customization<a class="anchor-link" href="#Keyboard-shortcut-customization">&#182;</a></h2>
</div>
</div>
</div>

<div class="cell border-box-sizing text_cell rendered">
<div class="prompt input_prompt">
</div>
<div class="inner_cell">
<div class="text_cell_render border-box-sizing rendered_html">
<p>Starting with IPython 2.0 keyboard shortcuts in command and edit mode are fully customizable. These customizations are made using the IPython JavaScript API. Here is an example that makes the <code>r</code> key available for running a cell:</p>
</div>
</div>
</div>
<div class="cell border-box-sizing code_cell rendered">
<div class="input">
<div class="prompt input_prompt">
In&nbsp;[7]:
</div>
<div class="inner_cell">
    <div class="input_area">
<div class="highlight"><pre><span class="o">%%</span><span class="nx">javascript</span>

<span class="nx">IPython</span><span class="p">.</span><span class="nx">keyboard_manager</span><span class="p">.</span><span class="nx">command_shortcuts</span><span class="p">.</span><span class="nx">add_shortcut</span><span class="p">(</span><span class="s1">&#39;r&#39;</span><span class="p">,</span> <span class="p">{</span>
    <span class="nx">help</span> <span class="o">:</span> <span class="s1">&#39;run cell&#39;</span><span class="p">,</span>
    <span class="nx">help_index</span> <span class="o">:</span> <span class="s1">&#39;zz&#39;</span><span class="p">,</span>
    <span class="nx">handler</span> <span class="o">:</span> <span class="kd">function</span> <span class="p">(</span><span class="nx">event</span><span class="p">)</span> <span class="p">{</span>
        <span class="nx">IPython</span><span class="p">.</span><span class="nx">notebook</span><span class="p">.</span><span class="nx">execute_cell</span><span class="p">();</span>
        <span class="k">return</span> <span class="kc">false</span><span class="p">;</span>
    <span class="p">}}</span>
<span class="p">);</span>
</pre></div>

</div>
</div>
</div>

<div class="output_wrapper">
<div class="output">


<div class="output_area"><div class="prompt"></div>


<div class="output_subarea output_javascript ">
<script type="text/javascript">

IPython.keyboard_manager.command_shortcuts.add_shortcut('r', {
    help : 'run cell',
    help_index : 'zz',
    handler : function (event) {
        IPython.notebook.execute_cell();
        return false;
    }}
);
</script>
</div>

</div>

</div>
</div>

</div>
<div class="cell border-box-sizing text_cell rendered">
<div class="prompt input_prompt">
</div>
<div class="inner_cell">
<div class="text_cell_render border-box-sizing rendered_html">
<p>There are a couple of points to mention about this API:</p>
<ul>
<li>The <code>help_index</code> field is used to sort the shortcuts in the Keyboard Shortcuts help dialog. It defaults to <code>zz</code>.</li>
<li>When a handler returns <code>false</code> it indicates that the event should stop propagating and the default action should not be performed. For further details about the <code>event</code> object or event handling, see the jQuery docs.</li>
<li>If you don&#39;t need a <code>help</code> or <code>help_index</code> field, you can simply pass a function as the second argument to <code>add_shortcut</code>.</li>
</ul>
</div>
</div>
</div>
<div class="cell border-box-sizing code_cell rendered">
<div class="input">
<div class="prompt input_prompt">
In&nbsp;[11]:
</div>
<div class="inner_cell">
    <div class="input_area">
<div class="highlight"><pre><span class="o">%%</span><span class="nx">javascript</span>

<span class="nx">IPython</span><span class="p">.</span><span class="nx">keyboard_manager</span><span class="p">.</span><span class="nx">command_shortcuts</span><span class="p">.</span><span class="nx">add_shortcut</span><span class="p">(</span><span class="s1">&#39;r&#39;</span><span class="p">,</span> <span class="kd">function</span> <span class="p">(</span><span class="nx">event</span><span class="p">)</span> <span class="p">{</span>
    <span class="nx">IPython</span><span class="p">.</span><span class="nx">notebook</span><span class="p">.</span><span class="nx">execute_cell</span><span class="p">();</span>
    <span class="k">return</span> <span class="kc">false</span><span class="p">;</span>
<span class="p">});</span>
</pre></div>

</div>
</div>
</div>

<div class="output_wrapper">
<div class="output">


<div class="output_area"><div class="prompt"></div>


<div class="output_subarea output_javascript ">
<script type="text/javascript">

IPython.keyboard_manager.command_shortcuts.add_shortcut('r', function (event) {
    IPython.notebook.execute_cell();
    return false;
});
</script>
</div>

</div>

</div>
</div>

</div>
<div class="cell border-box-sizing text_cell rendered">
<div class="prompt input_prompt">
</div>
<div class="inner_cell">
<div class="text_cell_render border-box-sizing rendered_html">
<p>Likewise, to remove a shortcut, use <code>remove_shortcut</code>:</p>
</div>
</div>
</div>
<div class="cell border-box-sizing code_cell rendered">
<div class="input">
<div class="prompt input_prompt">
In&nbsp;[8]:
</div>
<div class="inner_cell">
    <div class="input_area">
<div class="highlight"><pre><span class="o">%%</span><span class="nx">javascript</span>

<span class="nx">IPython</span><span class="p">.</span><span class="nx">keyboard_manager</span><span class="p">.</span><span class="nx">command_shortcuts</span><span class="p">.</span><span class="nx">remove_shortcut</span><span class="p">(</span><span class="s1">&#39;r&#39;</span><span class="p">);</span>
</pre></div>

</div>
</div>
</div>

<div class="output_wrapper">
<div class="output">


<div class="output_area"><div class="prompt"></div>


<div class="output_subarea output_javascript ">
<script type="text/javascript">

IPython.keyboard_manager.command_shortcuts.remove_shortcut('r');
</script>
</div>

</div>

</div>
</div>

</div>
<div class="cell border-box-sizing text_cell rendered">
<div class="prompt input_prompt">
</div>
<div class="inner_cell">
<div class="text_cell_render border-box-sizing rendered_html">
<p>If you want your keyboard shortcuts to be active for all of your notebooks, put the above API calls into your <code>&lt;profile&gt;/static/custom/custom.js</code> file.</p>
</div>
</div>
</div>
<div class="cell border-box-sizing text_cell rendered">
<div class="prompt input_prompt">
</div>
<div class="inner_cell">
<div class="text_cell_render border-box-sizing rendered_html">
<h2 id="Utilities">Utilities<a class="anchor-link" href="#Utilities">&#182;</a></h2>
</div>
</div>
</div>

<div class="cell border-box-sizing text_cell rendered">
<div class="prompt input_prompt">
</div>
<div class="inner_cell">
<div class="text_cell_render border-box-sizing rendered_html">
<p>We use the following functions to generate the keyboard shortcut listings above.</p>
</div>
</div>
</div>
<div class="cell border-box-sizing code_cell rendered">
<div class="input">
<div class="prompt input_prompt">
In&nbsp;[16]:
</div>
<div class="inner_cell">
    <div class="input_area">
<div class="highlight"><pre><span class="kn">from</span> <span class="nn">IPython.display</span> <span class="kn">import</span> <span class="n">Javascript</span><span class="p">,</span> <span class="n">display</span><span class="p">,</span> <span class="n">HTML</span>

<span class="n">t</span> <span class="o">=</span> <span class="s">&quot;&quot;&quot;var help = IPython.quick_help.build_{0}_help();</span>
<span class="s">help.children().first().remove();</span>
<span class="s">this.append_output({{output_type: &#39;display_data&#39;, html: help.html()}});&quot;&quot;&quot;</span>

<span class="k">def</span> <span class="nf">display_command_shortcuts</span><span class="p">():</span>
    <span class="n">display</span><span class="p">(</span><span class="n">Javascript</span><span class="p">(</span><span class="n">t</span><span class="o">.</span><span class="n">format</span><span class="p">(</span><span class="s">&#39;command&#39;</span><span class="p">)))</span>

<span class="k">def</span> <span class="nf">display_edit_shortcuts</span><span class="p">():</span>
    <span class="n">display</span><span class="p">(</span><span class="n">Javascript</span><span class="p">(</span><span class="n">t</span><span class="o">.</span><span class="n">format</span><span class="p">(</span><span class="s">&#39;edit&#39;</span><span class="p">)))</span>

<span class="n">display</span><span class="p">(</span><span class="n">HTML</span><span class="p">(</span><span class="s">&quot;&quot;&quot;</span>
<span class="s">&lt;style&gt;</span>
<span class="s">.shortcut_key {display: inline-block; width: 15ex; text-align: right; font-family: monospace;}</span>
<span class="s">.shortcut_descr {display: inline-block;}</span>
<span class="s">div.quickhelp {float: none; width: 100%;}</span>
<span class="s">&lt;/style&gt;</span>
<span class="s">&quot;&quot;&quot;</span><span class="p">))</span>
</pre></div>

</div>
</div>
</div>

<div class="output_wrapper">
<div class="output">


<div class="output_area"><div class="prompt"></div>

<div class="output_html rendered_html output_subarea ">

<style>
.shortcut_key {display: inline-block; width: 15ex; text-align: right; font-family: monospace;}
.shortcut_descr {display: inline-block;}
div.quickhelp {float: none; width: 100%;}
</style>

</div>

</div>

</div>
</div>

</div>


     <!-- Footer
     ================================================== -->
      
      <footer class="footer hidden-print">
      <p class="pull-right"><a href="#">Back to top</a></p>
      <p>More info on <a href='http://ipython.org'> IPython website</a>.
      <a href="https://github.com/ipython/nbviewer">The code for this site</a> is licensed under <a href="https://github.com/ipython/nbviewer/blob/master/LICENSE.txt" target="_blank">BSD</a>.
      Built thanks to <a href="http://twitter.github.com/bootstrap/"> Twitter Bootstrap</a>
      </p>
      <p>This web site does not host notebooks, it only renders notebooks available on other websites.
      Thanks to all our <a href="https://github.com/ipython/nbviewer/contributors">contributors</a> and to <a href="http://www.rackspace.com">Rackspace</a> for hosting.</p>
      

      
      <p class="text-muted">
          nbviewer version:
          <a href="https://github.com/ipython/nbviewer/commit/bdee54bcc1f729b75565554454f0681a72106449">bdee54b</a>
          (Thu, 10 Apr 2014 11:22:56 -0700)
      </p>
      
      

<p class="text-muted">
    IPython version: 3.0.0-dev
    
    (<a href="https://github.com/ipython/ipython/commit/dc61a92">
      dc61a92
    </a>)
    
</p>


      

      

<p class="text-muted">
    Rendered on: Thu, 10 Apr 2014 20:00:36 UTC
</p>


      </footer>
      

    </div><!-- /container -->

    <script src="/static/js/bootstrap-collapse.js"></script>
    <script src="/static/components/headroom.js/dist/headroom.min.js"></script>
    <script src="/static/components/headroom.js/dist/jQuery.headroom.min.js"></script>


    
    
    
    <script>
    $(document).ready(
                function(){
                    $("#menubar").headroom({
                        "tolerance": 5,
                        "offset": 205,
                        "classes": {
                            "initial": "animated",
                            "pinned": "slideInDown",
                            "unpinned": "slideOutUp"
                        }
                    })
                }
            );
    </script>


    <!-- Analytics
    ================================================== -->
    <script type="text/javascript">
      var _gaq = _gaq || [];
      _gaq.push(['_setAccount', 'UA-38683231-2']);
      _gaq.push(['_trackPageview']);

      (function() {
        var ga = document.createElement('script'); ga.type = 'text/javascript'; ga.async = true;
        ga.src = ('https:' == document.location.protocol ? 'https://ssl' : 'http://www') + '.google-analytics.com/ga.js';
        var s = document.getElementsByTagName('script')[0]; s.parentNode.insertBefore(ga, s);
      })();

    </script>
    <!--NEW RELIC Stop Perf Measurement-->
    
    <!--NEW RELIC End-->
  </body>
</html>