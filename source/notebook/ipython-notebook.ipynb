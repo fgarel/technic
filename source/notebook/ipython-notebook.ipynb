{
 "metadata": {
  "name": "ipython-notebook"
 },
 "nbformat": 3,
 "nbformat_minor": 0,
 "worksheets": [
  {
   "cells": [
    {
     "cell_type": "markdown",
     "metadata": {},
     "source": [
      "Comment commencer ?\n",
      "===================\n",
      "\n",
      "Installer Ipython Notebook et lancer le serveur\n",
      "-----------------------------------------------\n",
      "Ceci est d\u00e9crit dans les paragraphes suivants.\n",
      "Ces paragraphes sont extraits d'un notebook existant.\n",
      "\n",
      "Manipuler un notebook\n",
      "---------------------\n",
      "\n",
      "Il existe plusieurs formats de cellules"
     ]
    },
    {
     "cell_type": "heading",
     "level": 3,
     "metadata": {},
     "source": [
      "Cr\u00e9er une cellule Markdown"
     ]
    },
    {
     "cell_type": "markdown",
     "metadata": {},
     "source": [
      "\n",
      "Il faut suivre la doc, ici,\n",
      "http://nbviewer.ipython.org/github/ipython/ipython/blob/master/examples/Notebook/User%20Interface.ipynb\n",
      "puis, ici,\n",
      "http://nbviewer.ipython.org/github/ipython/ipython/blob/master/examples/Notebook/Index.ipynb"
     ]
    },
    {
     "cell_type": "heading",
     "level": 3,
     "metadata": {},
     "source": [
      "Cr\u00e9er une cellule code"
     ]
    },
    {
     "cell_type": "markdown",
     "metadata": {},
     "source": [
      "Une cellule code est une cellule qui \u00e0 l'aspect de la cellule montr\u00e9e ci dessous"
     ]
    },
    {
     "cell_type": "code",
     "collapsed": false,
     "input": [
      "a=10\n",
      "print(a)"
     ],
     "language": "python",
     "metadata": {},
     "outputs": [
      {
       "output_type": "stream",
       "stream": "stdout",
       "text": [
        "10\n"
       ]
      }
     ],
     "prompt_number": 7
    },
    {
     "cell_type": "markdown",
     "metadata": {},
     "source": [
      "Cr\u00e9er une cellule code"
     ]
    },
    {
     "cell_type": "markdown",
     "metadata": {},
     "source": [
      "Opening a Notebook\n",
      "==================\n",
      "If you simply want to view a Notebook you can do so by providing a link to that notebook to the, totally awesome, [IPython Notebook Viewer](http://nbviewer.ipython.org/). The primary links to notebooks for this class will all take you directly to a displayed version of the notebook using the viewer.\n",
      "\n",
      "If you want to open the notebook on your own computer so that you can interact with it:\n",
      "\n",
      "1. Download the notebook (it should have a ipynb extension)\n",
      "2. Open a shell or command prompt (for Windows users just type `cmd` into search box)\n",
      "3. Navigate to the directory where the notebook is stored\n",
      "4. Enter `ipython notebook` and press Enter\n",
      "5. Your browser will open and you can then select the desired notebook\n",
      "\n",
      "If this doesn't work it probably means that Python hasn't been properly added to your PATH."
     ]
    },
    {
     "cell_type": "markdown",
     "metadata": {},
     "source": [
      "Want to Know More?\n",
      "==================\n",
      "Go checkout the official [IPython Notebook page](http://ipython.org/ipython-doc/dev/interactive/htmlnotebook.html)."
     ]
    }
   ],
   "metadata": {}
  }
 ]
}