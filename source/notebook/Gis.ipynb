{
 "metadata": {
  "name": "Gis"
 },
 "nbformat": 3,
 "nbformat_minor": 0,
 "worksheets": [
  {
   "cells": [
    {
     "cell_type": "markdown",
     "metadata": {},
     "source": [
      "Python et Gis\n",
      "=============\n",
      "http://conference.scipy.org/scipy2013/mini_symposia.php#GIS - Geospatial Data Analysis\n",
      "\n",
      "voir aussi vimeo, scipy 2013\n",
      "\n"
     ]
    },
    {
     "cell_type": "markdown",
     "metadata": {},
     "source": [
      "Tuiles\n",
      "======\n",
      "\n",
      "https://github.com/minorua/TileLayerPlugin\n",
      "http://www.3liz.com/blog/rldhont/index.php?post/2012/07/17/Les-Tuiles-OpenStreetMap-dans-QGIS\n",
      "http://www.qgis.org/fr/docs/user_manual/working_with_ogc/ogc_client_support.html\n",
      "http://www.gdal.org/frmt_wms.html\n",
      "http://plugins.qgis.org/plugins/tags/tms/\n",
      "http://wiki.openstreetmap.org/wiki/Slippy_map_tilenames\n",
      "http://www.maptiler.org/google-maps-coordinates-tile-bounds-projection/"
     ]
    }
   ],
   "metadata": {}
  }
 ]
}