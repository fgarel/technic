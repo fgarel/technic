{
 "metadata": {
  "name": "helmert"
 },
 "nbformat": 3,
 "nbformat_minor": 0,
 "worksheets": [
  {
   "cells": [
    {
     "cell_type": "markdown",
     "metadata": {},
     "source": [
      "Helmert et changement de coordonn\u00e9es\n",
      "====================================\n",
      "D\u00e9finition : http://fr.wikipedia.org/wiki/Transformation_de_Helmert\n",
      "\n",
      "L'id\u00e9e est de developper un utilitaire dont le but est de faciliter le calage des pdf dans un syst\u00e8me de coordonn\u00e9es de type cc46.\n",
      "\n",
      "Par exemple, nous avons un plan de batiment ou un plan de rue au format pdf, et nous souhaiterions soit cr\u00e9er un geopdf (\n",
      "http://www.gdal.org/frmt_pdf.html \n",
      "http://www.gdal.org/ogr/drv_pdf.html\n",
      "), soit cr\u00e9er un fichier world, et ceci, afin de pouvoir superposer le pdf avec un fond de plan cal\u00e9 (cf ici ?\n",
      "http://osgeo-org.1560.x6.nabble.com/gdal-dev-GeoPDF-translation-td3742508.html)\n",
      "\n",
      "Cet utilitaire serait developp\u00e9 en mode web (utilisation de flask, jquery, openlayers ou leaflet), mais avant d'assembler les mod\u00e8les, vues et autres templates, nous allons essayer d'approfondir les briques de bases.\n",
      "\n",
      "L'interface html/css est developp\u00e9e avec brackets et les fichiers sont sous mapnik/helmert\n",
      "\n",
      "L'algorithme et la doc sur helmert et les matrices sont ici\n",
      "http://www.portailsig.org/content/les-transformations-affines-avec-numpy-ou-la-signification-geometrique-d-un-fichier-worldfil\n",
      "\n",
      "\n",
      "Un fichier python extrait de cette documentation\n",
      "http://www.lfd.uci.edu/~gohlke/code/transformations.py.html\n",
      "\n",
      "Une autre doc sur les fichiers world\n",
      "http://www.portailsig.org/content/python-georeferencement-et-worldfiles-tfw-jgwpngw\n",
      "http://fr.wikipedia.org/wiki/Discussion:World_file\n",
      "\n",
      "De la doc sur les matrices de transformation\n",
      "http://forums.mediabox.fr/wiki/tutoriaux/flashplatform/math_physique/matrix\n",
      "http://fr.wikipedia.org/wiki/Coordonn%C3%A9es_homog%C3%A8nes\n",
      "\n",
      "enfin, d'autres explications, et en particulier avec un essai d'algorithme dans laquel l'utilisateur souhaite \"fixer\" le facteur d'\u00e9chelle, le tout avec un algoritme en scilab\n",
      "http://georezo.net/forum/viewtopic.php?id=81041\n",
      "http://georezo.net/forum/viewtopic.php?id=45969\n",
      "\n",
      "https://groups.google.com/forum/#!topic/scipy-user/8C9eIojYDao\n",
      "\n",
      "\n",
      "http://serge.mehl.free.fr/anx/meth_carr.html\n",
      "http://statsmodels.sourceforge.net/devel/examples/notebooks/generated/contrasts.html\n",
      "\n"
     ]
    },
    {
     "cell_type": "code",
     "collapsed": false,
     "input": [],
     "language": "python",
     "metadata": {},
     "outputs": []
    }
   ],
   "metadata": {}
  }
 ]
}