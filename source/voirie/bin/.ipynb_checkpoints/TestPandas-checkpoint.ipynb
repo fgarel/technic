{
 "cells": [
  {
   "cell_type": "markdown",
   "metadata": {},
   "source": [
    "# Test pour l'utilisation de pandas (dans l'environnement jupyter)\n",
    "\n",
    "## 1. Environnement python avec les librairies\n",
    "### 1.1  On se positionne dans le repertoire\n",
    "### 1.2. Creation d'un environnement python3\n",
    "#### 1.2.1. Mise à jour de pip, mais juste au niveau utilisateur pour pas casser le systeme\n",
    "#python -m pip install pip --upgrade --user\n",
    "#### 1.2.2. Installation de pipenv\n",
    "#python -m pip install pipenv --user\n",
    "### 1.3. utilisation de pipenv\n",
    "#pipenv shell\n",
    "### 1.4. Installation des bibliothèques\n",
    "#python -m pip install pandas\n",
    "#python -m pip install numpy\n",
    "#python -m pip install matplotlib\n",
    "\n",
    "\n",
    "## 2. Demarrage de l'environnement jupyter\n",
    "### 2.1. On se positionne dans le repertoire\n",
    "#cd ~/Documents/technic/source/voirie/bin/\n",
    "### 2.2. On lance jupyter notebook\n",
    "#jupyter notebook\n",
    "\n",
    "## 3. Tutoriel pandas\n",
    "#https://pandas.pydata.org/pandas-docs/stable/10min.html#excel\n",
    "#https://realpython.com/python-pandas-tricks/\n",
    "#http://www.portailsig.org/content/python-geopandas-ou-le-pandas-spatial\n",
    "\n"
   ]
  },
  {
   "cell_type": "code",
   "execution_count": 3,
   "metadata": {},
   "outputs": [],
   "source": [
    "# https://pandas.pydata.org/pandas-docs/stable/10min.html\n",
    "import pandas as pd\n",
    "import numpy as np\n",
    "import matplotlib.pyplot as plt"
   ]
  },
  {
   "cell_type": "code",
   "execution_count": 4,
   "metadata": {},
   "outputs": [
    {
     "data": {
      "text/plain": [
       "0    1.0\n",
       "1    3.0\n",
       "2    5.0\n",
       "3    NaN\n",
       "4    6.0\n",
       "5    8.0\n",
       "dtype: float64"
      ]
     },
     "execution_count": 4,
     "metadata": {},
     "output_type": "execute_result"
    }
   ],
   "source": [
    "s = pd.Series([1,3,5,np.nan,6,8])\n",
    "s"
   ]
  },
  {
   "cell_type": "code",
   "execution_count": 5,
   "metadata": {},
   "outputs": [
    {
     "data": {
      "text/html": [
       "<div>\n",
       "<style scoped>\n",
       "    .dataframe tbody tr th:only-of-type {\n",
       "        vertical-align: middle;\n",
       "    }\n",
       "\n",
       "    .dataframe tbody tr th {\n",
       "        vertical-align: top;\n",
       "    }\n",
       "\n",
       "    .dataframe thead th {\n",
       "        text-align: right;\n",
       "    }\n",
       "</style>\n",
       "<table border=\"1\" class=\"dataframe\">\n",
       "  <thead>\n",
       "    <tr style=\"text-align: right;\">\n",
       "      <th></th>\n",
       "      <th>A</th>\n",
       "      <th>B</th>\n",
       "      <th>C</th>\n",
       "      <th>D</th>\n",
       "    </tr>\n",
       "  </thead>\n",
       "  <tbody>\n",
       "    <tr>\n",
       "      <th>2013-01-01</th>\n",
       "      <td>0.433178</td>\n",
       "      <td>0.383635</td>\n",
       "      <td>0.045569</td>\n",
       "      <td>-0.401105</td>\n",
       "    </tr>\n",
       "    <tr>\n",
       "      <th>2013-01-02</th>\n",
       "      <td>-0.861278</td>\n",
       "      <td>-0.515247</td>\n",
       "      <td>0.793621</td>\n",
       "      <td>0.426843</td>\n",
       "    </tr>\n",
       "    <tr>\n",
       "      <th>2013-01-03</th>\n",
       "      <td>0.600566</td>\n",
       "      <td>0.307044</td>\n",
       "      <td>-1.485563</td>\n",
       "      <td>1.047846</td>\n",
       "    </tr>\n",
       "    <tr>\n",
       "      <th>2013-01-04</th>\n",
       "      <td>0.014417</td>\n",
       "      <td>0.375144</td>\n",
       "      <td>0.267093</td>\n",
       "      <td>-0.155513</td>\n",
       "    </tr>\n",
       "    <tr>\n",
       "      <th>2013-01-05</th>\n",
       "      <td>-1.260203</td>\n",
       "      <td>-0.285156</td>\n",
       "      <td>-1.880881</td>\n",
       "      <td>-1.582141</td>\n",
       "    </tr>\n",
       "    <tr>\n",
       "      <th>2013-01-06</th>\n",
       "      <td>0.994614</td>\n",
       "      <td>-1.164544</td>\n",
       "      <td>-1.416465</td>\n",
       "      <td>-0.681461</td>\n",
       "    </tr>\n",
       "  </tbody>\n",
       "</table>\n",
       "</div>"
      ],
      "text/plain": [
       "                   A         B         C         D\n",
       "2013-01-01  0.433178  0.383635  0.045569 -0.401105\n",
       "2013-01-02 -0.861278 -0.515247  0.793621  0.426843\n",
       "2013-01-03  0.600566  0.307044 -1.485563  1.047846\n",
       "2013-01-04  0.014417  0.375144  0.267093 -0.155513\n",
       "2013-01-05 -1.260203 -0.285156 -1.880881 -1.582141\n",
       "2013-01-06  0.994614 -1.164544 -1.416465 -0.681461"
      ]
     },
     "execution_count": 5,
     "metadata": {},
     "output_type": "execute_result"
    }
   ],
   "source": [
    "dates = pd.date_range('20130101', periods=6)\n",
    "dates\n",
    "df = pd.DataFrame(np.random.randn(6,4), index=dates, columns=list('ABCD'))\n",
    "df"
   ]
  }
 ],
 "metadata": {
  "kernelspec": {
   "display_name": "Python 3",
   "language": "python",
   "name": "python3"
  },
  "language_info": {
   "codemirror_mode": {
    "name": "ipython",
    "version": 3
   },
   "file_extension": ".py",
   "mimetype": "text/x-python",
   "name": "python",
   "nbconvert_exporter": "python",
   "pygments_lexer": "ipython3",
   "version": "3.6.5"
  }
 },
 "nbformat": 4,
 "nbformat_minor": 2
}
